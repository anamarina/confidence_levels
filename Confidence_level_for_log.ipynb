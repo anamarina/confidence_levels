{
 "cells": [
  {
   "cell_type": "code",
   "execution_count": 6,
   "metadata": {
    "collapsed": false
   },
   "outputs": [
    {
     "name": "stdout",
     "output_type": "stream",
     "text": [
      "Confidence interval for /home:\t0.25993323799224427;\t0.3160667620077557\n",
      "Confidence interval for /index:\t0.4940484410731867;\t0.5559515589268134\n",
      "Confidence interval for /test:\t0.4870297671691025;\t0.5489702328308975\n",
      "Hypothesis H0 (ratios are equal) is not regected at significance level alpha = 0.05.\n"
     ]
    }
   ],
   "source": [
    "import sys\n",
    "import math\n",
    "import scipy\n",
    "import scipy.stats\n",
    "import numpy as np\n",
    "\n",
    "with open(\"log.txt\", \"w\") as log:\n",
    "    # генерация случайной выборки\n",
    "    n = 1000\n",
    "    # вероятности классов\n",
    "    p_home = 0.3\n",
    "    p_index = 0.5\n",
    "    p_test = 0.5\n",
    "    for i in np.random.choice([1,0], n, p = [p_home, 1-p_home]) :\n",
    "        log.write(\"1,\"+'/home,'+str(i)+'\\n')\n",
    "    for i in np.random.choice([1,0], n, p = [p_index, 1- p_index]) :\n",
    "        log.write(\"1,\"+'/index,'+str(i)+'\\n')\n",
    "    for i in np.random.choice([1,0], n, p = [p_test, 1-p_test]) :\n",
    "        log.write(\"1,\"+'/test,'+str(i)+'\\n')\n",
    "\n",
    "\n",
    "if __name__==\"__main__\":\n",
    "    requests = {}\n",
    "    with open(\"log.txt\") as log:\n",
    "        for row in log:\n",
    "            _,type_of_request,mobile = row.split(\",\")\n",
    "            mobile = \"mobile\" if int(mobile) else \"not mobile\"\n",
    "            if type_of_request not in requests:\n",
    "                requests[type_of_request] = {\"mobile\":0, \"not mobile\":0, \"total\": 0}\n",
    "            requests[type_of_request][mobile]+=1\n",
    "            requests[type_of_request][\"total\"]+=1\n",
    "    for type_of_request in requests:\n",
    "        mean = requests[type_of_request][\"mobile\"]*1.0/requests[type_of_request][\"total\"]\n",
    "        var = (1-mean)*mean\n",
    "        deviation = 1.96*math.sqrt(var/requests[type_of_request][\"total\"])\n",
    "        print(\"Confidence interval for \" + type_of_request + \":\\t\" + str(mean-deviation) + \";\\t\"+str(mean+deviation))\n",
    "    \n",
    "    n_index = requests['/index'][\"total\"]\n",
    "    mean_index = requests['/index'][\"mobile\"]*1.0/n_index\n",
    "    var_index = (1-mean_index)*mean_index\n",
    "    \n",
    "    n_test = requests['/test'][\"total\"]\n",
    "    mean_test = requests['/test'][\"mobile\"]*1.0/n_test\n",
    "    var_test = (1-mean_test)*mean_test\n",
    "    stat = (mean_index-mean_test)*1.0/math.sqrt(((n_index-1)*var_index + (n_test-1)*var_test)/(n_index+n_test-2)*(1.0/n_index + 1.0/n_test))\n",
    "    #print(stat)\n",
    "    if scipy.stats.t.cdf(stat, n_index+n_test-2)<0.025 or scipy.stats.t.cdf(stat, n_index+n_test-2)>0.975:\n",
    "        print(\"Hypothesis H0 (ratios are equal) is regected at significance level alpha = 0.05.\")\n",
    "    else:\n",
    "        print(\"Hypothesis H0 (ratios are equal) is not regected at significance level alpha = 0.05.\")"
   ]
  },
  {
   "cell_type": "code",
   "execution_count": null,
   "metadata": {
    "collapsed": true
   },
   "outputs": [],
   "source": []
  }
 ],
 "metadata": {
  "kernelspec": {
   "display_name": "Python 3",
   "language": "python",
   "name": "python3"
  },
  "language_info": {
   "codemirror_mode": {
    "name": "ipython",
    "version": 3
   },
   "file_extension": ".py",
   "mimetype": "text/x-python",
   "name": "python",
   "nbconvert_exporter": "python",
   "pygments_lexer": "ipython3",
   "version": "3.6.0"
  }
 },
 "nbformat": 4,
 "nbformat_minor": 2
}
